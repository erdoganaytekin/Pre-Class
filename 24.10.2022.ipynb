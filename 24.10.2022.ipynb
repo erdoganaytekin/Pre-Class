{    
 "cells": [
  {
   "cell_type": "code",
   "execution_count": 4,
   "id": "654054f1",
   "metadata": {},
   "outputs": [
    {
     "name": "stdout",
     "output_type": "stream",
     "text": [
      "it is true\n"
     ]
    }
   ],
   "source": [
    "if True:\n",
    "    print('it is true')\n"
   ]
  },
  {
   "cell_type": "code",
   "execution_count": 11,
   "id": "5ddf1209",
   "metadata": {},
   "outputs": [
    {
     "name": "stdout",
     "output_type": "stream",
     "text": [
      "No\n"
     ]
    }
   ],
   "source": [
    "empty_seat = 21\n",
    "\n",
    "if 20 > empty_seat > 3:  # in this case, 14>3=True, so the body will execute\n",
    "    print('there is still seat to sit')\n",
    "else: print('No')"
   ]
  },
  {
   "cell_type": "code",
   "execution_count": 12,
   "id": "54e86ea7",
   "metadata": {},
   "outputs": [
    {
     "name": "stdout",
     "output_type": "stream",
     "text": [
      "you guaranteed the job\n"
     ]
    }
   ],
   "source": [
    "course = 'clarusway'\n",
    "\n",
    "if course == \"clarusway\":\n",
    "    print(\"you guaranteed the job\")\n",
    "else:\n",
    "    print(\"think about it again\")"
   ]
  },
  {
   "cell_type": "code",
   "execution_count": 16,
   "id": "dca8d704",
   "metadata": {},
   "outputs": [
    {
     "name": "stdout",
     "output_type": "stream",
     "text": [
      "I can lift that!\n"
     ]
    }
   ],
   "source": [
    "weight = 90\n",
    "\n",
    "if weight > 100:\n",
    "    print(\"That's too heavy!\")\n",
    "elif weight > 75:\n",
    "    print(\"I can lift that!\")\n",
    "else:\n",
    "    print(\"That's too light!\")\n"
   ]
  },
  {
   "cell_type": "code",
   "execution_count": 17,
   "id": "f3edfb2a",
   "metadata": {},
   "outputs": [
    {
     "name": "stdout",
     "output_type": "stream",
     "text": [
      "discounted price!\n"
     ]
    }
   ],
   "source": [
    "audience_group = 'kid', 'teen', 'adult'\n",
    "\n",
    "audience = \"teen\"\n",
    "\n",
    "if audience in audience_group:\n",
    "    if audience == \"kid\":\n",
    "        print(\"it is free to go to cinema\")\n",
    "    elif audience == \"teen\":\n",
    "        print(\"discounted price!\")\n",
    "    else: # audience == \"adult\":\n",
    "        print(\"normal price\")\n",
    "else:\n",
    "    print(\"No such audience, stay at your home!\")"
   ]
  },
  {
   "cell_type": "code",
   "execution_count": 24,
   "id": "f02127bc",
   "metadata": {},
   "outputs": [
    {
     "name": "stdout",
     "output_type": "stream",
     "text": [
      "Enter your score :55\n",
      "Your degree: below B\n"
     ]
    }
   ],
   "source": [
    "score = int (input(\"Enter your score :\"))\n",
    "\n",
    "if score >= 90:\n",
    "    if score >= 95:\n",
    "        Score_letter=\"A+\"\n",
    "    else:\n",
    "        Score_letter=\"A\"\n",
    "elif score >= 80:\n",
    "    if score >= 85:\n",
    "        Score_letter=\"B+\"\n",
    "    else:\n",
    "        Score_letter=\"B\"\n",
    "else:\n",
    "    Score_letter=\"below B\"\n",
    "\n",
    "print (\"Your degree: %s\" % Score_letter)"
   ]
  },
  {
   "cell_type": "code",
   "execution_count": 26,
   "id": "7bfcbac6",
   "metadata": {},
   "outputs": [
    {
     "name": "stdout",
     "output_type": "stream",
     "text": [
      "Enter your score :55\n",
      "Your degree: below B\n"
     ]
    }
   ],
   "source": [
    "score = int (input(\"Enter your score :\"))\n",
    "\n",
    "if score >= 90:\n",
    "    if score >= 95:\n",
    "        Score_letter=\"A+\"\n",
    "    else:\n",
    "        Score_letter=\"A\"\n",
    "elif score >= 80:\n",
    "    if score >= 85:\n",
    "        Score_letter=\"B+\"\n",
    "    else:\n",
    "        Score_letter=\"B\"\n",
    "else:\n",
    "    Score_letter=\"below B\"\n",
    "\n",
    "print (\"Your degree: below B\")"
   ]
  },
  {
   "cell_type": "code",
   "execution_count": 37,
   "id": "ae81760e",
   "metadata": {},
   "outputs": [
    {
     "name": "stdout",
     "output_type": "stream",
     "text": [
      "-5\n",
      "-4\n",
      "-3\n",
      "-2\n",
      "-1\n",
      "0\n",
      "1\n",
      "2\n",
      "3\n",
      "4\n",
      "5\n",
      "now, number is bigger or equal to 6\n"
     ]
    }
   ],
   "source": [
    "number = -5\n",
    "\n",
    "while number < 6:\n",
    "    print(number)\n",
    "    number += 1\n",
    "print('now, number is bigger or equal to 6')\n"
   ]
  },
  {
   "cell_type": "code",
   "execution_count": 35,
   "id": "e9098638",
   "metadata": {},
   "outputs": [
    {
     "data": {
      "text/plain": [
       "[1, 2, 3, 4, 5]"
      ]
     },
     "execution_count": 35,
     "metadata": {},
     "output_type": "execute_result"
    }
   ],
   "source": [
    "number = range(1,6)\n",
    "list(number)"
   ]
  },
  {
   "cell_type": "code",
   "execution_count": 12,
   "id": "890a7951",
   "metadata": {},
   "outputs": [
    {
     "name": "stdout",
     "output_type": "stream",
     "text": [
      "square of 0 is : 0  cube is :  0\n",
      "square of 1 is : 1  cube is :  1\n",
      "square of 2 is : 4  cube is :  8\n",
      "square of 3 is : 9  cube is :  27\n",
      "square of 4 is : 16  cube is :  64\n",
      "square of 5 is : 25  cube is :  125\n",
      "square of 6 is : 36  cube is :  216\n",
      "square of 7 is : 49  cube is :  343\n"
     ]
    }
   ],
   "source": [
    "my_list=[\"a\", \"b\", \"c\", \"d\", \"e\", \"f\", \"g\", \"h\"]\n",
    "\n",
    "a = 0\n",
    "\n",
    "while a < len(my_list):\n",
    "    print('square of {} is : {}  cube is :  {}'.format(a, a**2, a**3))\n",
    "    a+=1"
   ]
  },
  {
   "cell_type": "code",
   "execution_count": 56,
   "id": "b86dbd1d",
   "metadata": {},
   "outputs": [
    {
     "name": "stdout",
     "output_type": "stream",
     "text": [
      "Let's play the guessing game!\n",
      "What number am I thinking of?  50\n",
      "Little lower\n",
      "What number am I thinking of?  49\n",
      "Little lower\n",
      "What number am I thinking of?  43\n",
      "Little higher\n",
      "What number am I thinking of?  44\n",
      "Are you a MINDREADER!!!\n"
     ]
    }
   ],
   "source": [
    "answer = 44\n",
    "\n",
    "question = 'What number am I thinking of?  '\n",
    "print (\"Let's play the guessing game!\")\n",
    "\n",
    "while True:\n",
    "    guess = int(input(question))\n",
    "\n",
    "    if guess < answer:\n",
    "        print('Little higher')\n",
    "    elif guess > answer:\n",
    "        print('Little lower')\n",
    "    else:  # guess == answer\n",
    "        print('Are you a MINDREADER!!!')\n",
    "        break\n"
   ]
  },
  {
   "cell_type": "code",
   "execution_count": 7,
   "id": "593163ed",
   "metadata": {},
   "outputs": [
    {
     "name": "stdout",
     "output_type": "stream",
     "text": [
      "Let's play the guessing game!\n",
      "What number am I thinking of?  44\n",
      "Are you a MINDREADER!!!\n"
     ]
    }
   ],
   "source": [
    "answer = 44\n",
    "\n",
    "question = 'What number am I thinking of?  '\n",
    "print (\"Let's play the guessing game!\")\n",
    "\n",
    "while True:\n",
    "    guess = int(input(question))\n",
    "\n",
    "    if guess < answer:\n",
    "        print('Little higher')\n",
    "    elif guess > answer:\n",
    "        print('Little lower')\n",
    "    else:  # guess == answer\n",
    "        print('Are you a MINDREADER!!!')\n",
    "        break\n"
   ]
  },
  {
   "cell_type": "code",
   "execution_count": 11,
   "id": "30072876",
   "metadata": {},
   "outputs": [
    {
     "name": "stdout",
     "output_type": "stream",
     "text": [
      "Rose\n",
      "Orchid\n",
      "Tulip\n"
     ]
    }
   ],
   "source": [
    "flowers = ['Rose', 'Orchid', 'Tulip']\n",
    "count1 = len(flowers)\n",
    "count2 = 0\n",
    "\n",
    "while count1 >0 :\n",
    "    print(flowers[count2])\n",
    "    count1 -= 1\n",
    "    count2 += 1"
   ]
  },
  {
   "cell_type": "code",
   "execution_count": 12,
   "id": "58faaffa",
   "metadata": {},
   "outputs": [
    {
     "name": "stdout",
     "output_type": "stream",
     "text": [
      "1\n",
      "2\n",
      "3\n",
      "4\n",
      "5\n"
     ]
    }
   ],
   "source": [
    "for i in [1, 2, 3, 4, 5] :\n",
    "    print(i)\n"
   ]
  },
  {
   "cell_type": "code",
   "execution_count": 21,
   "id": "6b2553e7",
   "metadata": {},
   "outputs": [
    {
     "name": "stdout",
     "output_type": "stream",
     "text": [
      "spring\n",
      "summer\n",
      "autumn\n",
      "winter\n"
     ]
    }
   ],
   "source": [
    "seasons = ['spring', 'summer', 'autumn', 'winter']\n",
    "\n",
    "for season in seasons :\n",
    "    print(season)"
   ]
  },
  {
   "cell_type": "code",
   "execution_count": 28,
   "id": "d5e62404",
   "metadata": {},
   "outputs": [
    {
     "name": "stdout",
     "output_type": "stream",
     "text": [
      "1-) Trabzonspor\n",
      "2-) Malatyaspor\n",
      "3-) Giresunspor\n"
     ]
    }
   ],
   "source": [
    "teams = ['1-) Trabzonspor', '2-) Malatyaspor', '3-) Giresunspor']\n",
    "\n",
    "for team in teams :\n",
    "    print(team)"
   ]
  },
  {
   "cell_type": "code",
   "execution_count": 53,
   "id": "47f84640",
   "metadata": {},
   "outputs": [
    {
     "name": "stdout",
     "output_type": "stream",
     "text": [
      "n1\n",
      "n2\n"
     ]
    }
   ],
   "source": [
    "for i in {'n1' : 'one',\n",
    "          'n2' : 'two'} : \n",
    "    print(i)"
   ]
  },
  {
   "cell_type": "code",
   "execution_count": 55,
   "id": "7d6191e9",
   "metadata": {},
   "outputs": [
    {
     "name": "stdout",
     "output_type": "stream",
     "text": [
      "1\n",
      "4\n",
      "9\n",
      "16\n"
     ]
    }
   ],
   "source": [
    "iterable = [1, 2, 3, 4]\n",
    "\n",
    "for i in iterable : \n",
    "    print(i**2)\n"
   ]
  },
  {
   "cell_type": "code",
   "execution_count": 56,
   "id": "20cadf4c",
   "metadata": {},
   "outputs": [
    {
     "name": "stdout",
     "output_type": "stream",
     "text": [
      "c\n",
      "l\n",
      "a\n",
      "r\n",
      "u\n",
      "s\n",
      "w\n",
      "a\n",
      "y\n"
     ]
    }
   ],
   "source": [
    "course = 'clarusway'\n",
    "\n",
    "for i in course :\n",
    "    print(i)"
   ]
  },
  {
   "cell_type": "code",
   "execution_count": 91,
   "id": "1dec4562",
   "metadata": {
    "scrolled": true
   },
   "outputs": [
    {
     "name": "stdout",
     "output_type": "stream",
     "text": [
      "How many times should I say 'I love you': 2\n",
      "I love you\n",
      "I love you\n"
     ]
    }
   ],
   "source": [
    "times = int(input(\"How many times should I say 'I love you': \"))\n",
    "\n",
    "for i in range(times):\n",
    "    print('I love you')\n"
   ]
  },
  {
   "cell_type": "code",
   "execution_count": 89,
   "id": "30c6b95f",
   "metadata": {},
   "outputs": [
    {
     "name": "stdout",
     "output_type": "stream",
     "text": [
      "enter a number between 1-10: 10\n",
      "10x0x0 =  0\n",
      "10x1x1 =  10\n",
      "10x2x2 =  40\n",
      "10x3x3 =  90\n",
      "10x4x4 =  160\n",
      "10x5x5 =  250\n",
      "10x6x6 =  360\n",
      "10x7x7 =  490\n",
      "10x8x8 =  640\n",
      "10x9x9 =  810\n",
      "10x10x10 =  1000\n"
     ]
    }
   ],
   "source": [
    "n = int(input('enter a number between 1-10: '))\n",
    "\n",
    "for i in range(11):\n",
    "    print('{}x{}x{} = '.format(n, i, i), n*i*i)"
   ]
  },
  {
   "cell_type": "code",
   "execution_count": 90,
   "id": "99f58d6f",
   "metadata": {},
   "outputs": [
    {
     "name": "stdout",
     "output_type": "stream",
     "text": [
      "enter a number between 1-10: 10\n",
      "10%1 =  0\n",
      "10%2 =  0\n",
      "10%3 =  1\n",
      "10%4 =  2\n",
      "10%5 =  0\n",
      "10%6 =  4\n",
      "10%7 =  3\n",
      "10%8 =  2\n",
      "10%9 =  1\n",
      "10%10 =  0\n"
     ]
    }
   ],
   "source": [
    "n = int(input('enter a number between 1-10: '))\n",
    "\n",
    "for i in range(1,11):\n",
    "    print('{}%{} = '.format(n, i), n%i)"
   ]
  },
  {
   "cell_type": "code",
   "execution_count": 93,
   "id": "fc3f4e2f",
   "metadata": {},
   "outputs": [
    {
     "name": "stdout",
     "output_type": "stream",
     "text": [
      "[0, 1, 2, 3, 4, 5, 6, 7, 8, 9, 10]\n"
     ]
    }
   ],
   "source": [
    "b = list(range(11))\n",
    "\n",
    "print(b)"
   ]
  },
  {
   "cell_type": "code",
   "execution_count": 95,
   "id": "acd9ca9e",
   "metadata": {},
   "outputs": [
    {
     "name": "stdout",
     "output_type": "stream",
     "text": [
      "{0, 1, 2, 3, 4, 5, 6, 7, 8, 9, 10}\n"
     ]
    }
   ],
   "source": [
    "a = set(range(0,11))\n",
    "\n",
    "print(a)"
   ]
  },
  {
   "cell_type": "code",
   "execution_count": 98,
   "id": "c7aa2f06",
   "metadata": {},
   "outputs": [
    {
     "name": "stdout",
     "output_type": "stream",
     "text": [
      "(0, 1, 2, 3, 4, 5, 6, 7, 8, 9, 10)\n",
      "0 1 2 3 4 5 6 7 8 9 10\n"
     ]
    }
   ],
   "source": [
    "c = tuple(range(11))\n",
    "\n",
    "print(c)\n",
    "c = range(11)\n",
    "\n",
    "print(*c)"
   ]
  },
  {
   "cell_type": "code",
   "execution_count": 99,
   "id": "c0c744ca",
   "metadata": {},
   "outputs": [
    {
     "name": "stdout",
     "output_type": "stream",
     "text": [
      "5 7 9 11 13 15 17 19 21 23\n"
     ]
    }
   ],
   "source": [
    "print(*range(5,25,2))"
   ]
  },
  {
   "cell_type": "code",
   "execution_count": 100,
   "id": "d7ef7427",
   "metadata": {},
   "outputs": [
    {
     "name": "stdout",
     "output_type": "stream",
     "text": [
      "s e p a r a t e\n"
     ]
    }
   ],
   "source": [
    "print(*('separate'))"
   ]
  },
  {
   "cell_type": "code",
   "execution_count": 123,
   "id": "5c49ada0",
   "metadata": {},
   "outputs": [
    {
     "name": "stdout",
     "output_type": "stream",
     "text": [
      "E t a r a p e s\n"
     ]
    }
   ],
   "source": [
    "print(*('separate')[::-1].upper().title())"
   ]
  },
  {
   "cell_type": "code",
   "execution_count": 108,
   "id": "79783c53",
   "metadata": {},
   "outputs": [
    {
     "name": "stdout",
     "output_type": "stream",
     "text": [
      "s e p a r a t e e r d o g a n s e p a r a t e e r d o g a n s e p a r a t e e r d o g a n\n"
     ]
    }
   ],
   "source": [
    "print(*('separate' + 'erdogan')*3)"
   ]
  },
  {
   "cell_type": "code",
   "execution_count": 120,
   "id": "75cb75e4",
   "metadata": {},
   "outputs": [
    {
     "name": "stdout",
     "output_type": "stream",
     "text": [
      "10 8 6 4 2\n"
     ]
    }
   ],
   "source": [
    "print(*range(10,0,-2))"
   ]
  },
  {
   "cell_type": "code",
   "execution_count": 125,
   "id": "2197ac42",
   "metadata": {},
   "outputs": [
    {
     "name": "stdout",
     "output_type": "stream",
     "text": [
      "10 8 6 4 2\n"
     ]
    }
   ],
   "source": [
    "print(*range(10,0,-2))"
   ]
  },
  {
   "cell_type": "code",
   "execution_count": 128,
   "id": "3353325a",
   "metadata": {},
   "outputs": [
    {
     "name": "stdout",
     "output_type": "stream",
     "text": [
      "one : 1\n",
      "two : 2\n",
      "three : 3\n",
      "four : 4\n",
      "five : 5\n"
     ]
    }
   ],
   "source": [
    "text = ['one','two','three','four','five']\n",
    "numbers = [1, 2, 3, 4, 5]\n",
    "for x, y in zip(text, numbers):\n",
    "    print(x, ':', y)\n"
   ]
  },
  {
   "cell_type": "code",
   "execution_count": 145,
   "id": "35924867",
   "metadata": {},
   "outputs": [
    {
     "name": "stdout",
     "output_type": "stream",
     "text": [
      "I am happyErd\n",
      "I am happyAyt\n",
      "I am confidentErd\n",
      "I am confidentAyt\n",
      "You are happyErd\n",
      "You are happyAyt\n",
      "You are confidentErd\n",
      "You are confidentAyt\n"
     ]
    }
   ],
   "source": [
    "who = ['I am ', 'You are ']\n",
    "mood = ['happy', 'confident']\n",
    "hood = ['Erd', 'Ayt']\n",
    "for i in who:\n",
    "    for ii in mood:\n",
    "        for iii in hood:\n",
    "            print(i + ii+iii)"
   ]
  },
  {
   "cell_type": "code",
   "execution_count": 149,
   "id": "edc380c4",
   "metadata": {},
   "outputs": [
    {
     "name": "stdout",
     "output_type": "stream",
     "text": [
      "happyI am \n",
      "confidentI am \n",
      "happyYou are \n",
      "confidentYou are \n"
     ]
    }
   ],
   "source": [
    "who = ['I am ', 'You are ']\n",
    "mood = ['happy', 'confident']\n",
    "for i in who:\n",
    "    for ii in mood:\n",
    "        print(ii + i)"
   ]
  },
  {
   "cell_type": "code",
   "execution_count": 163,
   "id": "587e73ec",
   "metadata": {},
   "outputs": [
    {
     "name": "stdout",
     "output_type": "stream",
     "text": [
      "Please enter your saved amount: 390\n",
      "You saved more than half, keep saving!\n"
     ]
    }
   ],
   "source": [
    "ps4_price = 400\n",
    "\n",
    "saved_amount = int(input('Please enter your saved amount: '))\n",
    "\n",
    "if saved_amount <= ps4_price/2:\n",
    "    print(\"You must save more, keep saving!\")\n",
    "elif ps4_price > saved_amount > ps4_price/2:\n",
    "    print(\"You saved more than half, keep saving!\")\n",
    "else:\n",
    "    print(\"Yippee! You can buy your PS4\")"
   ]
  },
  {
   "cell_type": "code",
   "execution_count": 170,
   "id": "cc0b86c5",
   "metadata": {},
   "outputs": [
    {
     "ename": "SyntaxError",
     "evalue": "invalid syntax (1956494859.py, line 3)",
     "output_type": "error",
     "traceback": [
      "\u001b[1;36m  Input \u001b[1;32mIn [170]\u001b[1;36m\u001b[0m\n\u001b[1;33m    if math_mark >= 85\u001b[0m\n\u001b[1;37m                      ^\u001b[0m\n\u001b[1;31mSyntaxError\u001b[0m\u001b[1;31m:\u001b[0m invalid syntax\n"
     ]
    }
   ],
   "source": [
    "math_mark = int(input('Please enter the mark: '))\n",
    "\n",
    "if math_mark >= 85\n",
    "    print(\"A (Excellent)\")\n",
    "elif math_mark >= 70\n",
    "    print(\"B (Good)\")\n",
    "elif math_mark >= 60\n",
    "    print(\"C (Medium)\")\n",
    "elif math_mark >= 45\n",
    "    print(\"D (Not Bad)\")\n",
    "else: \n",
    "    print(F (Failed))\n"
   ]
  },
  {
   "cell_type": "code",
   "execution_count": 182,
   "id": "528ea338",
   "metadata": {},
   "outputs": [
    {
     "name": "stdout",
     "output_type": "stream",
     "text": [
      "Please enter the mark: 40\n",
      "F (Failed)\n"
     ]
    }
   ],
   "source": [
    "math_mark = int(input('Please enter the mark: '))\n",
    "\n",
    "if math_mark>= 85:\n",
    "    print(\"A (Excellent)\")\n",
    "elif math_mark >= 70:\n",
    "    print(\"B (Good)\")\n",
    "elif math_mark >= 60:\n",
    "    print(\"C (Medium)\")\n",
    "elif math_mark >= 45:\n",
    "    print(\"D (Not Bad)\")\n",
    "else: \n",
    "    print(\"F (Failed)\")"
   ]
  },
  {
   "cell_type": "code",
   "execution_count": null,
   "id": "889160d8",
   "metadata": {},
   "outputs": [],
   "source": []
  }
 ],
 "metadata": {
  "kernelspec": {
   "display_name": "Python 3 (ipykernel)",
   "language": "python",
   "name": "python3"
  },
  "language_info": {
   "codemirror_mode": {
    "name": "ipython",
    "version": 3
   },
   "file_extension": ".py",
   "mimetype": "text/x-python",
   "name": "python",
   "nbconvert_exporter": "python",
   "pygments_lexer": "ipython3",
   "version": "3.9.12"
  }
 },
 "nbformat": 4,
 "nbformat_minor": 5
}
