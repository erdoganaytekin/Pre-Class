{. 
 "cells": [
  {
   "cell_type": "markdown",
   "id": "9a14cf23",
   "metadata": {},
   "source": [
    "# Functions in Python Pre Class"
   ]
  },
  {
   "cell_type": "code",
   "execution_count": 2,
   "id": "9bc96fbc",
   "metadata": {},
   "outputs": [
    {
     "name": "stdout",
     "output_type": "stream",
     "text": [
      "Even numbers in the list:  3\n",
      "Odd numbers in the list:  4\n"
     ]
    }
   ],
   "source": [
    "list1 = [10, 21, 4, 45, 66, 93, 11]\n",
    " \n",
    "only_odd = [num for num in list1 if num % 2 == 1]\n",
    "odd_count = len(only_odd)\n",
    " \n",
    "print(\"Even numbers in the list: \", len(list1) - odd_count)\n",
    "print(\"Odd numbers in the list: \", odd_count)"
   ]
  },
  {
   "cell_type": "code",
   "execution_count": 6,
   "id": "10da4e94",
   "metadata": {},
   "outputs": [
    {
     "name": "stdout",
     "output_type": "stream",
     "text": [
      "Even numbers in the list:  3\n",
      "Odd numbers in the list:  4\n"
     ]
    }
   ],
   "source": [
    "even_count = 0  # even counter\n",
    "i = 0  # index, so that we can check if list[i] is even or odd\n",
    "odd_count = 0  # odd counter\n",
    " \n",
    " \n",
    "def evenoddcount(lst):\n",
    "    # difining local counters as global variable\n",
    "    global even_count\n",
    "    global odd_count\n",
    "    global i\n",
    "    if lst[i] % 2 == 0:  # check if number is even\n",
    "        even_count += 1\n",
    "    else:  # if number is odd\n",
    "        odd_count += 1\n",
    "    if i in range(len(lst)-1):\n",
    "        i += 1  # increment i\n",
    "        evenoddcount(lst)  # calling fonction recursively\n",
    "    else:\n",
    "        print(\"Even numbers in the list: \", even_count)\n",
    "        print(\"Odd numbers in the list: \", odd_count)\n",
    " \n",
    " \n",
    "list1 = [10, 21, 4, 45, 66, 93, 1]\n",
    "evenoddcount(list1)"
   ]
  },
  {
   "cell_type": "code",
   "execution_count": 7,
   "id": "7aabfe52",
   "metadata": {},
   "outputs": [],
   "source": [
    "def first_function(argument_1, argument_2) :\n",
    "    print(argument_1**2 + argument_2**2)"
   ]
  },
  {
   "cell_type": "code",
   "execution_count": 10,
   "id": "31e03b26",
   "metadata": {},
   "outputs": [
    {
     "name": "stdout",
     "output_type": "stream",
     "text": [
      "13\n"
     ]
    }
   ],
   "source": [
    "first_function(2, 3)"
   ]
  },
  {
   "cell_type": "code",
   "execution_count": 13,
   "id": "ea4e8be7",
   "metadata": {},
   "outputs": [
    {
     "name": "stdout",
     "output_type": "stream",
     "text": [
      "15\n",
      "-2.5\n",
      "amazing amazing amazing \n"
     ]
    }
   ],
   "source": [
    "def multiply(a, b) :\n",
    "    print(a*b)\n",
    "\n",
    "multiply(3, 5)\n",
    "multiply(-1, 2.5)\n",
    "multiply('amazing ', 3) "
   ]
  },
  {
   "cell_type": "code",
   "execution_count": 14,
   "id": "a0b9340d",
   "metadata": {},
   "outputs": [],
   "source": [
    "def motto() :\n",
    "    print(\"Don't hesitate to reinvent yourself!\")"
   ]
  },
  {
   "cell_type": "code",
   "execution_count": 15,
   "id": "85c97a23",
   "metadata": {},
   "outputs": [
    {
     "name": "stdout",
     "output_type": "stream",
     "text": [
      "Don't hesitate to reinvent yourself!\n"
     ]
    }
   ],
   "source": [
    "motto()"
   ]
  },
  {
   "cell_type": "code",
   "execution_count": 24,
   "id": "b11d79a5",
   "metadata": {},
   "outputs": [
    {
     "name": "stdout",
     "output_type": "stream",
     "text": [
      "0 1 1 2 3 5 8 13 21 34 55 89 144 233 377 610 987 \n"
     ]
    }
   ],
   "source": [
    "def fib(n):    # write Fibonacci series up to n\n",
    "    \"\"\"Print a Fibonacci series up to n.\"\"\"\n",
    "    a, b = 0, 1\n",
    "    while a < n:\n",
    "        print(a, end=' ')\n",
    "        a, b = b, a+b\n",
    "    print()\n",
    "fib(1000)"
   ]
  },
  {
   "cell_type": "code",
   "execution_count": 25,
   "id": "970d3940",
   "metadata": {},
   "outputs": [
    {
     "name": "stdout",
     "output_type": "stream",
     "text": [
      "[1]\n",
      "[1, 2]\n",
      "[1, 2, 3]\n"
     ]
    }
   ],
   "source": [
    "def f(a, L=[]):\n",
    "    L.append(a)\n",
    "    return L\n",
    "\n",
    "print(f(1))\n",
    "print(f(2))\n",
    "print(f(3))"
   ]
  },
  {
   "cell_type": "code",
   "execution_count": 31,
   "id": "87aa74d0",
   "metadata": {},
   "outputs": [
    {
     "name": "stdout",
     "output_type": "stream",
     "text": [
      "50\n",
      "50\n"
     ]
    }
   ],
   "source": [
    "def multiply_1(a, b) :\n",
    "    print(a * b)  # it prints something\n",
    "\n",
    "def multiply_2(a, b) :\n",
    "    return a * b  # returns any numeric data type value\n",
    "\n",
    "multiply_1(10, 5)\n",
    "print(multiply_2(10, 5))"
   ]
  },
  {
   "cell_type": "code",
   "execution_count": 32,
   "id": "c915f703",
   "metadata": {},
   "outputs": [
    {
     "name": "stdout",
     "output_type": "stream",
     "text": [
      "20\n",
      "<class 'NoneType'>\n",
      "<class 'int'>\n"
     ]
    }
   ],
   "source": [
    "print(type(multiply_1(10, 2)))\n",
    "print(type(multiply_2(10, 5)))"
   ]
  },
  {
   "cell_type": "code",
   "execution_count": 34,
   "id": "255f9967",
   "metadata": {},
   "outputs": [
    {
     "name": "stdout",
     "output_type": "stream",
     "text": [
      "12\n"
     ]
    }
   ],
   "source": [
    "def my_function(x,y):\n",
    "  return x * y\n",
    "print(my_function(3, 4))"
   ]
  },
  {
   "cell_type": "code",
   "execution_count": 37,
   "id": "e112ef0e",
   "metadata": {},
   "outputs": [],
   "source": [
    "def my_function(x,y):\n",
    "    area = x*y\n",
    "    return area"
   ]
  },
  {
   "cell_type": "code",
   "execution_count": 38,
   "id": "a5c9f988",
   "metadata": {},
   "outputs": [
    {
     "name": "stdout",
     "output_type": "stream",
     "text": [
      "12\n"
     ]
    }
   ],
   "source": [
    "print(my_function(3, 4))"
   ]
  },
  {
   "cell_type": "code",
   "execution_count": 40,
   "id": "e46ba6a4",
   "metadata": {},
   "outputs": [],
   "source": [
    "my_function(10,20)\n",
    "def my_function(x,y):\n",
    "    print(x*y)"
   ]
  },
  {
   "cell_type": "code",
   "execution_count": 41,
   "id": "822618a0",
   "metadata": {},
   "outputs": [
    {
     "name": "stdout",
     "output_type": "stream",
     "text": [
      "200\n"
     ]
    }
   ],
   "source": [
    "my_function(10,20)"
   ]
  },
  {
   "cell_type": "code",
   "execution_count": 42,
   "id": "41225792",
   "metadata": {},
   "outputs": [],
   "source": [
    "def my_function(a, b):\n",
    "    hypotenuse = (a**2 + b**2)**0.5\n",
    "    return hypotenuse"
   ]
  },
  {
   "cell_type": "code",
   "execution_count": 43,
   "id": "a63fb502",
   "metadata": {},
   "outputs": [
    {
     "name": "stdout",
     "output_type": "stream",
     "text": [
      "5.0\n"
     ]
    }
   ],
   "source": [
    "print(my_function(3,4))"
   ]
  },
  {
   "cell_type": "code",
   "execution_count": 44,
   "id": "f83744a4",
   "metadata": {},
   "outputs": [],
   "source": [
    "def my_function(x, y):\n",
    "    area = x*y\n",
    "    return area"
   ]
  },
  {
   "cell_type": "code",
   "execution_count": 45,
   "id": "2208d995",
   "metadata": {},
   "outputs": [
    {
     "name": "stdout",
     "output_type": "stream",
     "text": [
      "12\n"
     ]
    }
   ],
   "source": [
    "print(my_function(3, 4))"
   ]
  },
  {
   "cell_type": "code",
   "execution_count": 46,
   "id": "a562a501",
   "metadata": {},
   "outputs": [
    {
     "name": "stdout",
     "output_type": "stream",
     "text": [
      "Richard\n"
     ]
    }
   ],
   "source": [
    "def longer(a, b):\n",
    "    if len(a) >= len(b):\n",
    "        return a\n",
    "    else:\n",
    "        return b\n",
    "\n",
    "print(longer('Richard', 'John'))"
   ]
  },
  {
   "cell_type": "code",
   "execution_count": null,
   "id": "258cfb62",
   "metadata": {},
   "outputs": [],
   "source": []
  }
 ],
 "metadata": {
  "kernelspec": {
   "display_name": "Python 3 (ipykernel)",
   "language": "python",
   "name": "python3"
  },
  "language_info": {
   "codemirror_mode": {
    "name": "ipython",
    "version": 3
   },
   "file_extension": ".py",
   "mimetype": "text/x-python",
   "name": "python",
   "nbconvert_exporter": "python",
   "pygments_lexer": "ipython3",
   "version": "3.9.12"
  }
 },
 "nbformat": 4,
 "nbformat_minor": 5
}
